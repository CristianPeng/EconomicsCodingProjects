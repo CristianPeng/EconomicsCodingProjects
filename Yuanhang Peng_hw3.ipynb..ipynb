{
 "cells": [
  {
   "cell_type": "markdown",
   "metadata": {},
   "source": [
    "# <center> Econ 373: Computational Economics (with Python) </center>\n",
    "## <center> Homework 3 (individual)</center>"
   ]
  },
  {
   "cell_type": "markdown",
   "metadata": {},
   "source": [
    "# <font color='red'>Name:</font>"
   ]
  },
  {
   "cell_type": "markdown",
   "metadata": {},
   "source": [
    "# <font color='red'>Instructions:</font>\n",
    "- Save all of your code to a .ipynb file (jupyter notebook file) and name it as **username_hw3.ipynb**. \n",
    "    - **You should remove any test cells/code that is outside of functions.**\n",
    "    - Submit only username_hw3.ipynb file\n",
    "- For each question, your file should contain a function labeled **q#** with input/output requirements specified below. \n",
    "    - The input refers to the arguments passed to the function. \n",
    "    - The output refers to what is returned by the function.\n",
    "    - We may require output to file or screen within a function, but if that is the case it will be clearly specified.\n",
    "    - Your functions may call other functions or classes that you create, but they have to be included in the file (i.e., the file that you submit should be self-contained).\n",
    "    - If your function calls on functions from other libraries, you need to load them within the function (e.g., if you use the os library you should assume that it has been installed on the computer but it has not been imported before calling your function).\n",
    "    \n",
    "\n",
    "## Grading\n",
    "\n",
    "- We will run your file by clicking Kernel--> Restart and Run All. You file should be able to reproduce all the results stored in your jupyter file. \n",
    "\n",
    "- We may also run your code by specifying q#(arg) in an empty cell. It should reproduce your stored results. \n",
    "\n",
    "Each question is graded on a 3-point scale + 1 point for following the instructions \n",
    "- 0 -- no or minimal work submitted (e.g., minor modification of the 'starting point')\n",
    "- 1 -- some work done but there are errors running/executing the code or results are mostly incomplete\n",
    "- 2 -- code runs, but results are either somewhat incomplete, incorrect, or there is clear room for improvement (e.g., no comments in the code, graphs are not labelled, etc.) \n",
    "- 3 -- all results complete and correct with clear commented code "
   ]
  },
  {
   "cell_type": "code",
   "execution_count": 2,
   "metadata": {},
   "outputs": [],
   "source": [
    "#libraries that will be used in this HW \n",
    "import os\n",
    "import shutil as sh\n",
    "import pandas as pd\n",
    "#you can add other libraries as needed"
   ]
  },
  {
   "cell_type": "code",
   "execution_count": 4,
   "metadata": {},
   "outputs": [
    {
     "data": {
      "text/plain": [
       "'C:\\\\Users\\\\xinxi\\\\Dropbox\\\\Fall 2021\\\\03-hw\\\\hw03'"
      ]
     },
     "execution_count": 4,
     "metadata": {},
     "output_type": "execute_result"
    }
   ],
   "source": [
    "# To find your working directory:\n",
    "%pwd \n",
    "# Code in case you want to change your working directory:  %cd\n",
    "# for example: %cd \"C:\\Users\\\\Purdue\\ComputationalEconomicsECON320\\Week3_4\\Group\\\"\n",
    "# Define your data folder here:\n",
    "datafolder = \"C:\\\\Users\\\\xinxi\\\\Dropbox\\\\Fall 2021\\\\03-hw\\\\hw03\\\\HW3_Data\\\\\"\n",
    "# Please use an absolute path"
   ]
  },
  {
   "cell_type": "markdown",
   "metadata": {},
   "source": [
    "# Question 1\n",
    "Write a function called **q1** to find the sum of all even numbers in all of files contained in hw3_data1.zip. \n",
    "\n",
    "- **Input**: none\n",
    "- **Output**: calculated number\n",
    "\n",
    "*Make sure that hw3_data1.zip is in the data folder*"
   ]
  },
  {
   "cell_type": "code",
   "execution_count": 20,
   "metadata": {},
   "outputs": [],
   "source": [
    "import os\n",
    "import shutil as sh"
   ]
  },
  {
   "cell_type": "code",
   "execution_count": 21,
   "metadata": {},
   "outputs": [
    {
     "name": "stdout",
     "output_type": "stream",
     "text": [
      "14634\n"
     ]
    }
   ],
   "source": [
    "#STARTING POINT\n",
    "def q1(): \n",
    "    \n",
    "    datafolder = ''\n",
    "    \n",
    "    # unzipping all hw3_data1.zip, and store all files into the current working directory\n",
    "    sh.unpack_archive(datafolder+'hw3_data1.zip')\n",
    "    \n",
    "    files = os.listdir() #files is a list of strings. with each string corresponding to a filename\n",
    "    total_sum = 0\n",
    "    \n",
    "    for file in files :\n",
    "        if file.endswith('.txt'): #if file ends with .txt then it will be one of the relevant files (assuming that there are no other .txt files in this folder)\n",
    "            with open(file, 'r', errors='ignore') as f:\n",
    "                for line in f:\n",
    "                    try:\n",
    "                        number = int(line.strip())\n",
    "                        if number %2 == 0:\n",
    "                            total_sum += number\n",
    "                    except ValueError:\n",
    "                        pass\n",
    "    return total_sum\n",
    "result = q1()\n",
    "print(result)\n",
    "                        "
   ]
  },
  {
   "cell_type": "markdown",
   "metadata": {},
   "source": [
    "# Question 2\n",
    "Write a function called **q2** to find the total number of banks in a particular state (i.e., Indiana) for a particular year (i.e.2010).\n",
    "- **Input**: filename of the state data, year\n",
    "- **Output**: the number of banks\n",
    "\n",
    "*Make sure that \"Indiana.csv\" is in the data folder*"
   ]
  },
  {
   "cell_type": "code",
   "execution_count": 52,
   "metadata": {},
   "outputs": [],
   "source": [
    "import os\n",
    "import shutil as sh"
   ]
  },
  {
   "cell_type": "code",
   "execution_count": 60,
   "metadata": {},
   "outputs": [
    {
     "data": {
      "text/plain": [
       "102"
      ]
     },
     "execution_count": 60,
     "metadata": {},
     "output_type": "execute_result"
    }
   ],
   "source": [
    "def q2(filename, year):\n",
    "    with open(filename,'r')as f:\n",
    "        f.readline()\n",
    "        \n",
    "        for line in f:\n",
    "            row = line.strip().split(',')\n",
    "            \n",
    "            if int(row[5]) == year:\n",
    "                return int(row[4])\n",
    "        \n",
    "    return None\n",
    "q2('Indiana.csv', 2010)"
   ]
  },
  {
   "cell_type": "markdown",
   "metadata": {},
   "source": [
    "# Question3\n",
    "Write a function called **q3** to find the number of banks per year in the continental US from 1934 until 2018\n",
    "\n",
    "- **Input**: none\n",
    "- **Output**: a dictionary in the format of {year: number of banks}\n",
    "\n",
    "*Make sure that hw3_data2.zip is in the data folder*"
   ]
  },
  {
   "cell_type": "code",
   "execution_count": 92,
   "metadata": {},
   "outputs": [],
   "source": [
    "import os\n",
    "import shutil as sh"
   ]
  },
  {
   "cell_type": "code",
   "execution_count": 98,
   "metadata": {},
   "outputs": [
    {
     "name": "stdout",
     "output_type": "stream",
     "text": [
      "Unpacked the data.\n",
      "Processing: Alabama.csv\n",
      "Processing: Arizona.csv\n",
      "Processing: Arkansas.csv\n",
      "Processing: California.csv\n",
      "Processing: Colorado.csv\n",
      "Processing: Connecticut.csv\n",
      "Processing: Delaware.csv\n",
      "Processing: Florida.csv\n",
      "Processing: Georgia.csv\n",
      "Processing: Idaho.csv\n",
      "Processing: Illinois.csv\n",
      "Processing: Indiana.csv\n",
      "Processing: Iowa.csv\n",
      "Processing: Kansas.csv\n",
      "Processing: Kentucky.csv\n",
      "Processing: Louisiana.csv\n",
      "Processing: Maine.csv\n",
      "Processing: Maryland.csv\n",
      "Processing: Massachusetts.csv\n",
      "Processing: Michigan.csv\n",
      "Processing: Minnesota.csv\n",
      "Processing: Mississippi.csv\n",
      "Processing: Missouri.csv\n",
      "Processing: Montana.csv\n",
      "Processing: Nebraska.csv\n",
      "Processing: Nevada.csv\n",
      "Processing: New Hampshire.csv\n",
      "Processing: New Jersey.csv\n",
      "Processing: New Mexico.csv\n",
      "Processing: New York.csv\n",
      "Processing: North Carolina.csv\n",
      "Processing: North Dakota.csv\n",
      "Processing: Ohio.csv\n",
      "Processing: Oklahoma.csv\n",
      "Processing: Oregon.csv\n",
      "Processing: Pennsylvania.csv\n",
      "Processing: Rhode Island.csv\n",
      "Processing: South Carolina.csv\n",
      "Processing: South Dakota.csv\n",
      "Processing: Tennessee.csv\n",
      "Processing: Texas.csv\n",
      "Processing: Utah.csv\n",
      "Processing: Vermont.csv\n",
      "Processing: Virginia.csv\n",
      "Processing: Washington.csv\n",
      "Processing: West Virginia.csv\n",
      "Processing: Wisconsin.csv\n",
      "Processing: Wyoming.csv\n",
      "{'2018': 4695, '2017': 4896, '2016': 5089, '2015': 5316, '2014': 5581, '2013': 5821, '2012': 6046, '2011': 6248, '2010': 6490, '2009': 6797, '2008': 7044, '2007': 7245, '2006': 7363, '2005': 7491, '2004': 7596, '2003': 7735, '2002': 7853, '2001': 8046, '2000': 8277, '1999': 8542, '1998': 8732, '1997': 9099, '1996': 9480, '1995': 9887, '1994': 10392, '1993': 10902, '1992': 11405, '1991': 11857, '1990': 12274, '1989': 12644, '1988': 13063, '1987': 13651, '1986': 14136, '1985': 14346, '1984': 14428, '1983': 14407, '1982': 14394, '1981': 14363, '1980': 14383, '1979': 14313, '1978': 14341, '1977': 14361, '1976': 14361, '1975': 14337, '1974': 14184, '1973': 13931, '1972': 13690, '1971': 13571, '1970': 13471, '1969': 13434, '1968': 13448, '1967': 13475, '1966': 13498, '1965': 13504, '1964': 13453, '1963': 13253, '1962': 13088, '1961': 13079, '1960': 13090, '1959': 13075, '1958': 13086, '1957': 13124, '1956': 13177, '1955': 13198, '1954': 13285, '1953': 13393, '1952': 13403, '1951': 13420, '1950': 13413, '1949': 13410, '1948': 13394, '1947': 13379, '1946': 13334, '1945': 13276, '1944': 13242, '1943': 13248, '1942': 13321, '1941': 13404, '1940': 13416, '1939': 13512, '1938': 13635, '1937': 13771, '1936': 13947, '1935': 14100, '1934': 13934}\n"
     ]
    }
   ],
   "source": [
    "# STARTING POINT\n",
    "def q3():\n",
    "    datafolder = 'C:\\\\Users\\\\hp\\\\Downloads\\\\'\n",
    "    \n",
    "    #unpack .csv data\n",
    "    sh.unpack_archive(datafolder+'hw3_data2.zip', extract_dir=datafolder)\n",
    "    print(\"Unpacked the data.\")\n",
    "\n",
    "    #list of all states in the the continental US\n",
    "    cont_us=['Alabama','Arizona','Arkansas','California','Colorado','Connecticut','Delaware','Florida','Georgia','Idaho',\\\n",
    "             'Illinois','Indiana','Iowa','Kansas','Kentucky','Louisiana','Maine','Maryland','Massachusetts','Michigan',\\\n",
    "             'Minnesota','Mississippi','Missouri','Montana','Nebraska','Nevada','New Hampshire','New Jersey',\\\n",
    "             'New Mexico','New York','North Carolina','North Dakota','Ohio','Oklahoma','Oregon','Pennsylvania',\\\n",
    "             'Rhode Island','South Carolina','South Dakota','Tennessee','Texas','Utah','Vermont','Virginia',\\\n",
    "             'Washington','West Virginia','Wisconsin','Wyoming']\n",
    "\n",
    "    #create a list of all relevant .csv files\n",
    "    cont_us_files = [i + '.csv' for i in cont_us]\n",
    "    \n",
    "    bank_counts = {}\n",
    "        \n",
    "    for state in cont_us_files: #for each state file (e.g., 'Alabama.csv')\n",
    "        print(f\"Processing: {state}\")\n",
    "        with open(datafolder + state, 'r') as f:\n",
    "            next(f)  # skip header\n",
    "            for line in f:\n",
    "                columns = line.strip().split(',')\n",
    "                year = columns[5]\n",
    "                \n",
    "                try:\n",
    "                    bank_count = int(float(columns[4]))\n",
    "                except ValueError:\n",
    "                    # Skip the line if conversion fails\n",
    "                    continue\n",
    "\n",
    "                if year not in bank_counts:\n",
    "                    bank_counts[year] = bank_count\n",
    "                else:\n",
    "                    bank_counts[year] += bank_count\n",
    "                    \n",
    "    return bank_counts\n",
    "\n",
    "result = q3()\n",
    "print(result)"
   ]
  },
  {
   "cell_type": "code",
   "execution_count": null,
   "metadata": {},
   "outputs": [],
   "source": []
  }
 ],
 "metadata": {
  "kernelspec": {
   "display_name": "Python 3 (ipykernel)",
   "language": "python",
   "name": "python3"
  },
  "language_info": {
   "codemirror_mode": {
    "name": "ipython",
    "version": 3
   },
   "file_extension": ".py",
   "mimetype": "text/x-python",
   "name": "python",
   "nbconvert_exporter": "python",
   "pygments_lexer": "ipython3",
   "version": "3.11.4"
  }
 },
 "nbformat": 4,
 "nbformat_minor": 4
}
