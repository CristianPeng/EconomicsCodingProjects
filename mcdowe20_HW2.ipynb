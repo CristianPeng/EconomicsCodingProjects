{
 "cells": [
  {
   "cell_type": "markdown",
   "metadata": {},
   "source": [
    "# <center> Econ 373: Computational Economics (with Python) </center>\n",
    "## <center> Homework 2 (Group)</center>"
   ]
  },
  {
   "cell_type": "markdown",
   "metadata": {},
   "source": [
    "# <font color='red'>Names:</font> Colby McDowell, Jess Gregory, Yuanhang Peng, Danhe Tang, Ruiyou Xu"
   ]
  },
  {
   "cell_type": "markdown",
   "metadata": {},
   "source": [
    "# <font color='red'>Instructions:</font>\n",
    "- Save all of your code to a .ipynb file (jupyter notebook file) and name it as **username_hw2.ipynb**, where username is the username of the group member who submits the homework. \n",
    "    - **You should remove any test cells/code that is outside of functions.**\n",
    "    - Submit only username_hw2.ipynb file\n",
    "- For each question, your file should contain a function labeled **q#** with input/output requirements specified below. \n",
    "    - The input refers to the arguments passed to the function. \n",
    "    - The output refers to what is returned by the function.\n",
    "    - We may require output to file or screen within a function, but if that is the case it will be clearly specified.\n",
    "    - Your functions may call other functions or classes that you create, but they have to be included in the file (i.e., the file that you submit should be self-contained).\n",
    "    - If your function calls on functions from other libraries, you need to load them within the function (e.g., if you use the os library you should assume that it has been installed on the computer but it has not been imported before calling your function).\n",
    "    \n",
    "\n",
    "## Grading\n",
    "\n",
    "- We will run your file by clicking Kernel--> Restart and Run All. Your file should be able to reproduce all the results stored in your jupyter file. \n",
    "\n",
    "- We may also run your code by specifying q#(arg) in an empty cell. It should reproduce your stored results. \n",
    "\n",
    "Each question is graded on a 3-point scale + 1 point for following the instructions \n",
    "- 0 -- no or minimal work submitted (e.g., minor modification of the 'starting point')\n",
    "- 1 -- some work done but there are errors running/executing the code or results are mostly incomplete\n",
    "- 2 -- code runs, but results are either somewhat incomplete, incorrect, or there is clear room for improvement (e.g., no comments in the code, graphs are not labelled, etc.) \n",
    "- 3 -- all results complete and correct with clear commented code "
   ]
  },
  {
   "cell_type": "markdown",
   "metadata": {},
   "source": [
    "# Question 1\n",
    "Suppose that the demand is given by the following equation\n",
    "\n",
    "> Qd = 1000 - 10 * P \n",
    "\n",
    "Write a function called **q1** to calculate and print the consumer surplus at a particular equilibrium quantity.\n",
    "\n",
    "- **Input**: quantity\n",
    "- **Output**: consumer surplus"
   ]
  },
  {
   "cell_type": "code",
   "execution_count": 37,
   "metadata": {},
   "outputs": [],
   "source": [
    "# STARTING POINT\n",
    "\n",
    "def q1(quantity):\n",
    "    \n",
    "    equilibrium_price = (1000 - quantity) / 10\n",
    "    \n",
    "    consumer_surplus = 0.5 * (equilibrium_price) * (quantity)\n",
    "    \n",
    "    print(f\"Consumer Surplus at {quantity}: {consumer_surplus}\")\n",
    "    \n",
    "    return None\n",
    "\n",
    "#Hint: Recall that consumer surplus is the area between the demand curve and the market price"
   ]
  },
  {
   "cell_type": "code",
   "execution_count": 38,
   "metadata": {},
   "outputs": [
    {
     "name": "stdout",
     "output_type": "stream",
     "text": [
      "Consumer Surplus at 50: 2375.0\n"
     ]
    }
   ],
   "source": [
    "q1(50)"
   ]
  },
  {
   "cell_type": "markdown",
   "metadata": {},
   "source": [
    "# Question 2\n",
    "Write a function called **q2** that takes a list of prices as an argument and determines the shortage amount for each price. (Negative shortage represents a surplus.) \n",
    "- **Input**: a list of floating point numbers (e.g., [100,125,50.5])\n",
    "- **Output**: a list of floating point number (e.g., if you run q2([100, 125,50.5]) the output should be [-250,-500,245.0])\n",
    "\n",
    "Use supply(.) and demand(.) functions provided in the lecture."
   ]
  },
  {
   "cell_type": "code",
   "execution_count": 39,
   "metadata": {},
   "outputs": [],
   "source": [
    "# STARTING POINT\n",
    "\n",
    "def supply(price):\n",
    "    '''Determine supply of a good at a given price. Input: … Output: …'''\n",
    "    qs = 250 + 5 * price\n",
    "    return qs\n",
    "\n",
    "def demand(price, slope = -5, intercept = 1000):\n",
    "    '''Determine supply of a good at a given price. Input: … Output: …'''\n",
    "    qd = intercept + slope * price\n",
    "    return qd\n",
    "\n",
    "def q2(prices):\n",
    "    shortages = []\n",
    "    \n",
    "    for price in prices:\n",
    "        quantity_demanded = demand(price)\n",
    "        quantity_supplied = supply(price)\n",
    "        shortage = quantity_demanded - quantity_supplied\n",
    "        shortages.append(shortage)\n",
    "\n",
    "    return shortages"
   ]
  },
  {
   "cell_type": "code",
   "execution_count": 40,
   "metadata": {},
   "outputs": [
    {
     "name": "stdout",
     "output_type": "stream",
     "text": [
      "[-250, -500, 245.0]\n"
     ]
    }
   ],
   "source": [
    "prices = [100, 125, 50.5]\n",
    "shortages = q2(prices)\n",
    "print(shortages)  "
   ]
  },
  {
   "cell_type": "markdown",
   "metadata": {},
   "source": [
    "# Question 3\n",
    "Write a function called **'q3'** that forecasts the population of a specified region over the next 10 years. This function should:\n",
    "\n",
    " - Accept three parameters:\n",
    "    - A dictionary of cities, where each city is paired with a list containing its region and current population.\n",
    "    - A dictionary mapping regions to their respective annual population growth rates.\n",
    "    - A string representing the region of interest.\n",
    " - Sum the current population of all cities in the specified region.\n",
    " - Compute the projected population for the region for each year over the next 10 years, considering the provided annual growth rate. This projection should compound annually.\n",
    " - Return the projection as a list of integers, where each entry represents the total population in the cities of the region for that year.\n",
    "\n",
    "### Input\n",
    " - **current_population_data**: a dictionary where keys are city names and values are lists. Each list contains two elements: the city's region (as a string) and its population (as an integer)\n",
    " - **annual_population_growth**: A dictionary where keys are region names and values are the annual population growth rates for that region (as a float).\n",
    " - **region**: A string representing the name of the region of interest. For example: 'Southwest'\n",
    " \n",
    "### Output \n",
    "- A list of integers representing the projected total population for cities in the specified region for each year over the next 10 years."
   ]
  },
  {
   "cell_type": "code",
   "execution_count": 41,
   "metadata": {},
   "outputs": [],
   "source": [
    "current_population_data  = {\"New York\":['Northeast', 8244910], \"Los Angeles\":['West', 3819702], \"Chicago\":['Midwest',2707120], \n",
    "        \"Houston\":['Southwest', 2145146], \"Philadelphia\":['Northeast', 1536471], \"Phoenix\":[\"Southwest\", 1469471],\n",
    "        \"San Antonio\":['Southwest', 1359758], \"San Diego\":['West', 1326179], \"Dallas\":['Southwest', 1223229]}\n",
    "\n",
    "annual_population_growth = {\"Northeast\":.0039,\"Southeast\":0.0098,\"West\":0.0088,\"Southwest\":0.0114,\"Midwest\":.0031}"
   ]
  },
  {
   "cell_type": "code",
   "execution_count": 42,
   "metadata": {},
   "outputs": [],
   "source": [
    "def q3(current_population_data, annual_population_growth, region_name):\n",
    "    T = 10  # Number of years to project\n",
    "    projection = []  # List to store projected populations\n",
    "    \n",
    "    # Get the current population of cities in the specified region\n",
    "    region_population = sum(city_data[1] for city, \n",
    "                            city_data in current_population_data.items() if city_data[0] == region_name)\n",
    "    \n",
    "    # Calculate the projected population for each year over the next 10 years\n",
    "    for year in range(1, T+1):\n",
    "        growth_rate = annual_population_growth.get(region_name, 0.0)  # Get the annual growth rate for the specified region\n",
    "        projected_population = int(region_population * (1 + growth_rate) ** year)  # Compounded growth\n",
    "        projection.append(projected_population)\n",
    "    \n",
    "    return projection"
   ]
  },
  {
   "cell_type": "code",
   "execution_count": 43,
   "metadata": {},
   "outputs": [
    {
     "name": "stdout",
     "output_type": "stream",
     "text": [
      "[6268256, 6339714, 6411987, 6485084, 6559014, 6633786, 6709412, 6785899, 6863258, 6941499]\n"
     ]
    }
   ],
   "source": [
    "region_name = \"Southwest\"\n",
    "projection = q3(current_population_data, annual_population_growth, region_name)\n",
    "print(projection)"
   ]
  }
 ],
 "metadata": {
  "kernelspec": {
   "display_name": "Python 3 (ipykernel)",
   "language": "python",
   "name": "python3"
  },
  "language_info": {
   "codemirror_mode": {
    "name": "ipython",
    "version": 3
   },
   "file_extension": ".py",
   "mimetype": "text/x-python",
   "name": "python",
   "nbconvert_exporter": "python",
   "pygments_lexer": "ipython3",
   "version": "3.11.4"
  }
 },
 "nbformat": 4,
 "nbformat_minor": 4
}
