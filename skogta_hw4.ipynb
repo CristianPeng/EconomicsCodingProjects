{
 "cells": [
  {
   "cell_type": "markdown",
   "metadata": {},
   "source": [
    "# <center> Econ 373: Computational Economics (with Python) </center>\n",
    "## <center> Homework 4 (group) </center>"
   ]
  },
  {
   "cell_type": "markdown",
   "metadata": {},
   "source": [
    "# <font color='red'>Names:\n",
    "Kogta, Shivani;\n",
    "Peng, Yuanhang;\n",
    "Ponsot, Gabriel;\n",
    "Rodriguez, Alex;\n",
    "Shen, Weijia</font>"
   ]
  },
  {
   "cell_type": "markdown",
   "metadata": {},
   "source": [
    "# <font color='red'>Instructions:</font>\n",
    "- Save all of your code to a .ipynb file (jupyter notebook file) and name it as **username_hw4.ipynb**, where username is the username of the group member who submits the homework. \n",
    "    - **You should remove any test cells/code that is outside of functions.**\n",
    "    - Submit only username_hw4.ipynb file\n",
    "- For each question, your file should contain a function labeled **q#** with input/output requirements specified below. \n",
    "    - The input refers to the arguments passed to the function. \n",
    "    - The output refers to what is returned by the function.\n",
    "    - We may require output to file or screen within a function, but if that is the case it will be clearly specified.\n",
    "    - Your functions may call other functions or classes that you create, but they have to be included in the file (i.e., the file that you submit should be self-contained).\n",
    "    - If your function calls on functions from other libraries, you need to load them within the function (e.g., if you use the os library you should assume that it has been installed on the computer but it has not been imported before calling your function).\n",
    "    \n",
    "\n",
    "## Grading\n",
    "\n",
    "- We will run your file by clicking Kernel--> Restart and Run All. You file should be able to reproduce all the results stored in your jupyter file. \n",
    "\n",
    "- We may also run your code by specifying q#(arg) in an empty cell. It should reproduce your stored results. \n",
    "\n",
    "Each question is graded on a 3-point scale + 1 point for following the instructions \n",
    "- 0 -- no or minimal work submitted (e.g., minor modification of the 'starting point')\n",
    "- 1 -- some work done but there are errors running/executing the code or results are mostly incomplete\n",
    "- 2 -- code runs, but results are either somewhat incomplete, incorrect, or there is clear room for improvement (e.g., no comments in the code, graphs are not labelled, etc.) \n",
    "- 3 -- all results complete and correct with clear commented code "
   ]
  },
  {
   "cell_type": "code",
   "execution_count": 1,
   "metadata": {},
   "outputs": [],
   "source": [
    "#libraries that will be used in this HW \n",
    "import os\n",
    "import shutil as sh\n",
    "import pandas as pd\n",
    "#you can add other libraries as needed"
   ]
  },
  {
   "cell_type": "code",
   "execution_count": 2,
   "metadata": {},
   "outputs": [
    {
     "name": "stdout",
     "output_type": "stream",
     "text": [
      "/Users/shivanikogta/Downloads/ECON373\n"
     ]
    }
   ],
   "source": [
    "# To find your working directory:\n",
    "%pwd \n",
    "# Code in case you want to change your working directory:  %cd\n",
    "# for example: %cd \"C:\\Users\\\\Purdue\\ComputationalEconomicsECON320\\Week3_4\\Group\\\"\n",
    "%cd \"/Users/shivanikogta/Downloads/ECON373/\"\n",
    "# Define your data folder here:\n",
    "datafolder = '/Users/shivanikogta/Downloads/ECON373/'\n",
    "# Please use an absolute path"
   ]
  },
  {
   "cell_type": "code",
   "execution_count": 3,
   "metadata": {},
   "outputs": [
    {
     "data": {
      "text/plain": [
       "'/Users/shivanikogta/Downloads/ECON373'"
      ]
     },
     "execution_count": 3,
     "metadata": {},
     "output_type": "execute_result"
    }
   ],
   "source": [
    "%pwd "
   ]
  },
  {
   "cell_type": "markdown",
   "metadata": {},
   "source": [
    "# Question 1\n",
    "Write a function called **q1** to merge the gdppercapita data with the life expectancy data for the year 2000. \n",
    "\n",
    "- **Input**: none\n",
    "- **Output**: a data frame with 3 columns: country, gdppercapita, life expectancy\n",
    "\n",
    "<font color='red'> Your column name should be exactly: ['Country', 'GDP Per Capita', 'Life Expectancy']  </font>\n",
    "\n",
    "*Make sure that life_expectancy_years.csv and gdppercapita.csv are in the data folder.*"
   ]
  },
  {
   "cell_type": "code",
   "execution_count": 4,
   "metadata": {},
   "outputs": [],
   "source": [
    "def q1():\n",
    "    # Load the data using read_csv\n",
    "    life_expectancy = pd.read_csv('life_expectancy_years.csv') #Read in life expectancy CSV file\n",
    "    gdppercapita = pd.read_csv('gdppercapita.csv') #Read in GDP per capita CSV file\n",
    "\n",
    "    # Merge the data on the 'country' column\n",
    "    merged_data = pd.merge(life_expectancy, gdppercapita, on='country')\n",
    "    merged_data_2000 = merged_data[['country', '2000_x', '2000_y']]\n",
    "\n",
    "    # Rename the columns\n",
    "    merged_data_2000.columns = ['Country', 'GDP Per Capita', 'Life Expectancy']\n",
    "\n",
    "    return merged_data_2000"
   ]
  },
  {
   "cell_type": "markdown",
   "metadata": {},
   "source": [
    "# Question 2\n",
    "Write a function called **q2** to find the country with the highest average life expectancy between 1900 and 1950. \n",
    "\n",
    "- **Input**: none\n",
    "- **Output**: country name.\n",
    "\n",
    "*Make sure that life_expectancy_years.csv is in the data folder.*"
   ]
  },
  {
   "cell_type": "code",
   "execution_count": 5,
   "metadata": {},
   "outputs": [],
   "source": [
    "#STARTING POINT\n",
    "\n",
    "def q2():\n",
    "    # Load the data using read_csv\n",
    "    life_expectancy = pd.read_csv('life_expectancy_years.csv')\n",
    "\n",
    "    #for the years 1900 to 1950\n",
    "    \n",
    "    selected_years = life_expectancy.loc[:, ['country'] + [str(year) for year in range(1900, 1951)]]\n",
    "    \n",
    "    # Calculate average life expectancy for each country\n",
    "    selected_years['Average Life Expectancy'] = selected_years.iloc[:, 1:].mean(axis=1)\n",
    "\n",
    "    # Find the country with the highest average life expectancy\n",
    "    country_name = selected_years.loc[selected_years['Average Life Expectancy'].idxmax(), 'country']\n",
    "\n",
    "    return country_name"
   ]
  },
  {
   "cell_type": "markdown",
   "metadata": {},
   "source": [
    "# Question 3\n",
    "Write a function called **q3** to find the correlation between GDP growth and the lag 1 housing price index between 1980 and 2010.\n",
    "\n",
    "- **Input**: none\n",
    "- **Output**: calculated number\n",
    "\n",
    "*Make sure that FRED_GDP.csv and USSTHPI.csv are in the data folder.*"
   ]
  },
  {
   "cell_type": "code",
   "execution_count": 6,
   "metadata": {},
   "outputs": [],
   "source": [
    "import pandas as pd\n",
    "\n",
    "def q3():\n",
    "   \n",
    "    # Read GDP data\n",
    "    gdp = pd.read_csv(datafolder+\"FRED_GDP.csv\")\n",
    "    gdp['DATE'] = pd.to_datetime(gdp['DATE'])\n",
    "    gdp.set_index('DATE', inplace=True)\n",
    "    \n",
    "    # Create lagged GDP\n",
    "    gdp['LAG_GDP'] = gdp['GDP'].shift(1)\n",
    "    \n",
    "    # Calculate GDP growth\n",
    "    gdp['GDP_Growth'] = (gdp['GDP'] / gdp['LAG_GDP']) - 1\n",
    "    \n",
    "    # Get the relevant subset of GDP data (between 1980 and 2010)\n",
    "    gdp_subset = gdp.loc['1980-01-01':'2010-12-31']\n",
    "    \n",
    "    # Read HPI data\n",
    "    hpi = pd.read_csv(datafolder+\"USSTHPI.csv\")\n",
    "    hpi['DATE'] = pd.to_datetime(hpi['DATE'])\n",
    "    hpi.set_index('DATE', inplace=True)\n",
    "    \n",
    "    # Create lagged HPI\n",
    "    hpi['LAG_HPI'] = hpi['USSTHPI'].shift(1)\n",
    "    \n",
    "    # Get the relevant subset of HPI data (between 1980 and 2010)\n",
    "    hpi_subset = hpi.loc['1980-01-01':'2010-12-31']\n",
    "    \n",
    "    # Merge or combine two datasets\n",
    "    merged_data = pd.concat([gdp_subset['GDP_Growth'], hpi_subset['LAG_HPI']], axis=1)\n",
    "    \n",
    "    # Find the correlation between GDP growth and lagged HPI\n",
    "    correlation = merged_data['GDP_Growth'].corr(merged_data['LAG_HPI'])\n",
    "    \n",
    "    return correlation\n"
   ]
  }
 ],
 "metadata": {
  "kernelspec": {
   "display_name": "Python 3 (ipykernel)",
   "language": "python",
   "name": "python3"
  },
  "language_info": {
   "codemirror_mode": {
    "name": "ipython",
    "version": 3
   },
   "file_extension": ".py",
   "mimetype": "text/x-python",
   "name": "python",
   "nbconvert_exporter": "python",
   "pygments_lexer": "ipython3",
   "version": "3.11.4"
  }
 },
 "nbformat": 4,
 "nbformat_minor": 4
}
