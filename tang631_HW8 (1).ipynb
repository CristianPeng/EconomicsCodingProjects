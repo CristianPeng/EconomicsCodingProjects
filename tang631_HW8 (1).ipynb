{
 "cells": [
  {
   "cell_type": "markdown",
   "metadata": {},
   "source": [
    "# <center> Econ 373: Computational Economics (with Python) </center>\n",
    "## <center> Homework 8 (group) </center>"
   ]
  },
  {
   "cell_type": "markdown",
   "metadata": {},
   "source": [
    "# <font color='red'>Names:</font>Danhe Tang, Alan Janes, Yuanhang Peng, Ben Petrie, Alex Rodriguez"
   ]
  },
  {
   "cell_type": "markdown",
   "metadata": {},
   "source": [
    "# <font color='red'>Instructions:</font>\n",
    "- Save all of your code to a .ipynb file (jupyter notebook file) and name it as **username_hw8.ipynb**. \n",
    "    - **You should remove any test cells/code that is outside of functions.**\n",
    "    - Submit only username_hw8.ipynb file\n",
    "- For each question, your file should contain a function labeled **q#** with input/output requirements specified below. \n",
    "    - The input refers to the arguments passed to the function. \n",
    "    - The output refers to what is returned by the function.\n",
    "    - We may require output to file or screen within a function, but if that is the case it will be clearly specified.\n",
    "    - Your functions may call other functions or classes that you create, but they have to be included in the file (i.e., the file that you submit should be self-contained).\n",
    "    - If your function calls on functions from other libraries, you need to load them within the function (e.g., if you use the os library you should assume that it has been installed on the computer but it has not been imported before calling your function).\n",
    "    \n",
    "\n",
    "## Grading\n",
    "\n",
    "- We will run your file by clicking Kernel--> Restart and Run All. You file should be able to reproduce all the results stored in your jupyter file. \n",
    "\n",
    "- We may also run your code by specifying q#(arg) in an empty cell. It should reproduce your stored results. \n",
    "\n",
    "Each question is graded on a 3-point scale + 1 point for following the instructions \n",
    "- 0 -- no or minimal work submitted (e.g., minor modification of the 'starting point')\n",
    "- 1 -- some work done but there are errors running/executing the code or results are mostly incomplete\n",
    "- 2 -- code runs, but results are either somewhat incomplete, incorrect, or there is clear room for improvement (e.g., no comments in the code, graphs are not labelled, etc.) \n",
    "- 3 -- all results complete and correct with clear commented code "
   ]
  },
  {
   "cell_type": "code",
   "execution_count": 1,
   "metadata": {},
   "outputs": [],
   "source": [
    "import random\n",
    "import numpy as np\n",
    "import pandas as pd\n",
    "import matplotlib.pyplot as plt\n",
    "%matplotlib inline "
   ]
  },
  {
   "cell_type": "code",
   "execution_count": 3,
   "metadata": {},
   "outputs": [],
   "source": [
    "import os\n",
    "# To find your working directory:\n",
    "%pwd \n",
    "# Code in case you want to change your working directory:  %cd\n",
    "# for example: %cd \"C:\\Users\\\\Purdue\\ComputationalEconomicsECON320\\Week3_4\\Group\\\"\n",
    "# Define your data folder here:\n",
    "datafolder = 'C:\\\\Users\\\\Tang\\\\Documents\\\\ECON373\\\\W8&9\\\\HW8'\n",
    "# Please use an absolute path\n",
    "outputfolder= 'C:\\\\Users\\\\Tang\\\\Documents\\\\ECON373\\\\W8&9\\\\HW8'"
   ]
  },
  {
   "cell_type": "markdown",
   "metadata": {},
   "source": [
    "# Question 1: Analyzing Stock Volatility and Risk\n",
    "\n",
    "Understanding a stock's historical volatility is important for assessing investment risk. Stocks with stable prices have low volatility, while highly volatile stocks are riskier but may offer higher returns. There are various ways to measure volatility, with the most common being the standard deviation of a stock's price. However, this doesn't provide a comparison to the risk of the entire market. To gauge a stock's relative volatility, traders rely on what is known as the Beta coefficient.\n",
    "\n",
    "In this homework question, we will write a function to calculate a simplified version of the Beta coefficient and compare the Beta coefficients of two prominent healthcare stocks. Our goal is to assess the riskiness of these stocks and determine the significance of the difference using a permutation test.\n",
    "\n",
    "**Data:** You will use the \"StockPrice_5Year_Weekly.csv\" file, which contains weekly price data for the S&P 500, Pfizer, and Johnson Group. We will consider the S&P 500 as the market benchmark.\n",
    "\n",
    "**Function Input:** None\n",
    "\n",
    "**Function Output:**\n",
    "Three numbers:\n",
    "    1. Average quarterly Beta coefficient for Pfizer \n",
    "    2. Average quarterly Beta coefficient for Johnson Group\n",
    "    3. p-value of two sided permutation test\n",
    "\n",
    "To calculate the Beta coefficient for a stock, follow these steps:\n",
    "\n",
    "1. Calculate the weekly return for all three stocks, denoted as $R_{SP500}$, $R_{Pfizer}$, and $R_{Johnson}$:\n",
    "\n",
    "   $$ R_{stock} = \\ln\\left(\\frac{price_{t}}{price_{t-1}}\\right)$$\n",
    "\n",
    "2. Calculate the quarterly Beta coefficients for Pfizer and Johnson using the S&P 500 as the benchmark. The Beta coefficient is defined as:\n",
    "\n",
    "   $$ \\beta = \\frac{Covariance(R_{benchmark}, R_{stock})}{Variance(R_{benchmark})} $$\n",
    "\n",
    "3. Once you've calculated the Beta coefficients, test whether the median quarterly Beta coefficient of Pfizer differs from the median quarterly Beta coefficient of Johnson. Use a permutation test to generate 10,000 random permutations for each group.\n",
    "\n",
    "Reference: [Investopedia - Beta](https://www.investopedia.com/terms/b/beta.asp)\n",
    "\n",
    "[Example of calculating the Beta coefficient in excel](https://financetrainingcourse.com/education/2011/04/market-risk-metrics--beta-with-respect-to-market-indices/)\n",
    "\n",
    "Below, you will also find a sample code to calculate the Beta coefficient in Python. Feel free to modify the code for your calculation. \n",
    "\n",
    "### Aside: simple return vs. logarithm return\n",
    "\n",
    "There are two methods of calculating returns:\n",
    "\n",
    "1. **Logarithmic Return**:\n",
    "$$ LR_{stock} = \\ln\\left(\\frac{price_{t}}{price_{t-1}}\\right) $$\n",
    "\n",
    "This formula calculates the natural logarithm of the ratio of the current price to the previous price. This gives you the continuously compounded return over the period.\n",
    "\n",
    "2. **Simple Return (+ Log Approximation)**:\n",
    "$$ R_{stock} = \\frac{price_{t} - price_{t-1}}{price_{t-1}} $$\n",
    "$$ LR_{stock} = \\ln(R_{stock}+1) $$\n",
    "\n",
    "The first line calculates the simple percentage change or the simple return. The second line then applies the natural logarithm to the result of the simple return plus one (i.e., if the percentage change is 5\\% then you get return of 1.05).\n",
    "\n",
    "The conceptual difference:\n",
    "\n",
    "- The first formula (logarithmic return) directly uses the ratio of prices to calculate the return. This is the true continuously compounded return.\n",
    "  \n",
    "- The second method first calculates the simple return and then attempts to convert it into its log return counterpart using the transformation \\(\\ln(1 + \\text{simple return})\\). For small values of the simple return, the transformation provides an approximation of the true log return. This step bridges the gap between simple and log returns, making it easier to switch between the two, especially when dealing with datasets that already provide simple returns.\n",
    "\n",
    "The two methods will yield close but not identical results, especially when returns are larger. The direct logarithmic return method is generally more accurate for financial analysis that requires compounding or when working with statistical methods assuming normality. On the other hand, the approximation method can be handy when you start with simple returns but need to perform analyses that are better suited for log returns.\n",
    "\n",
    "#### Some advantages of log returns:\n",
    "\n",
    "Logarithm of the price ratio is associated with some convenient properties:\n",
    "\n",
    "1. **Compounding**: Logarithmic returns are time-additive. If you have daily log returns, you can sum them over a period to get the return for the period. This is not the case with simple returns (percent difference). For instance, if you want to calculate monthly returns from daily returns, with log returns you'd simply sum them, but with simple returns, you'd have to multiply them.\n",
    "   \n",
    "2. **Symmetry**: Log returns are symmetric. This means that a 10% increase in a stock (e.g., from 100 to 110) followed by a 10% decrease (from 110 back to 100) will sum up to zero. This isn't the case with simple returns.\n",
    "\n",
    "3. **Small Changes Approximation**: For small return values, the log return is approximately equal to the simple return. This can make interpretations and mathematical derivations easier under certain circumstances.\n",
    "\n",
    "4. **Statistical Properties**: Log returns are more amenable to statistical analysis because they are more likely to be normally distributed, especially when returns are small. This is beneficial when using techniques that assume normality.\n",
    "\n",
    "5. **Analytical Convenience in Continuous Compounding**: When we use stochastic calculus (in financial mathematics, e.g., Black-Scholes formula for option pricing), we often deal with continuously compounded rates of return. Log returns align better with the continuous compounding framework.\n",
    "\n",
    "Both types of return have their uses in financial analysis, and the choice often depends on the specific application and the desired properties. For many statistical analyses and modeling purposes, log returns are preferred. However, for interpretability and direct understanding, especially in reports meant for a general audience, simple returns might be more commonly used."
   ]
  },
  {
   "cell_type": "code",
   "execution_count": 4,
   "metadata": {},
   "outputs": [],
   "source": [
    "import pandas as pd\n",
    "import numpy as np\n",
    "import os"
   ]
  },
  {
   "cell_type": "code",
   "execution_count": 6,
   "metadata": {},
   "outputs": [
    {
     "data": {
      "text/plain": [
       "1.095164648430575"
      ]
     },
     "execution_count": 6,
     "metadata": {},
     "output_type": "execute_result"
    }
   ],
   "source": [
    "# Sample code to calculate the Beta coefficient; Assume we have the following 9 weeks prices for a stock and the market index\n",
    "Stock_Price = [20,35,40,37,22,34,55,35,42]\n",
    "Market_Price = [300, 340, 400, 320, 200, 300, 500, 380, 400]\n",
    "\n",
    "# It returns the percentage change between the current and a prior element\n",
    "PC_stock = (pd.Series(Stock_Price)/pd.Series(Stock_Price).shift(1)).dropna()\n",
    "PC_market = (pd.Series(Market_Price)/pd.Series(Market_Price).shift(1)).dropna()\n",
    "Return_stock = np.log(PC_stock)\n",
    "Return_market = np.log(PC_market)\n",
    "\n",
    "# Calculate the beta coefficient\n",
    "# You can use the command np.cov to obtain the covariance and the variance for these two stocks\n",
    "cov_matrix = np.cov(Return_stock, Return_market)\n",
    "beta_month1 = cov_matrix[0,1] / cov_matrix[1,1]\n",
    "beta_month1"
   ]
  },
  {
   "cell_type": "code",
   "execution_count": 8,
   "metadata": {
    "scrolled": false
   },
   "outputs": [
    {
     "name": "stdout",
     "output_type": "stream",
     "text": [
      "The two sided test p-value is 0.0473\n"
     ]
    },
    {
     "data": {
      "image/png": "[encoded data removed]",
      "text/plain": [
       "<Figure size 640x480 with 1 Axes>"
      ]
     },
     "metadata": {},
     "output_type": "display_data"
    }
   ],
   "source": [
    "def q1():\n",
    "    #opening the csv and making lists 3 stocks\n",
    "    data= pd.read_csv(\"StockPrice_5Year_Weekly.csv\")\n",
    "    bench=data[\"S&P 500\"]\n",
    "    pfiz=data['Pfizer']\n",
    "    john=data['Johnson']\n",
    "    #calculating weekly return of stocks\n",
    "    b=[]\n",
    "        #the commas in this set mess up the code later\n",
    "    for i in range(261):\n",
    "        j=bench[i].replace(\",\",\"\")\n",
    "        b.append(float(j))\n",
    "    \n",
    "    bmark = pd.Series(b).pct_change().dropna()\n",
    "    Pfiz = pd.Series(pfiz).pct_change().dropna()\n",
    "    json = pd.Series(john).pct_change().dropna()\n",
    "    Return_bmark = np.log(bmark+1)\n",
    "    Return_Pfiz = np.log(Pfiz+1)\n",
    "    Return_json = np.log(json+1)\n",
    "    \n",
    "    #Pfiz monthly beta\n",
    "    Pf=[]\n",
    "    for i in range(65):\n",
    "        start=4*i\n",
    "        end=start+4\n",
    "        cov_matrix = np.cov(Return_Pfiz[start:end], Return_bmark[start:end])\n",
    "        month = cov_matrix[0,1] / cov_matrix[1,1]\n",
    "        Pf.append(month)\n",
    "    #Johnson montly beta\n",
    "    Js=[]\n",
    "    for i in range(65):\n",
    "        start=4*i\n",
    "        end=start+4\n",
    "        cov_matrix = np.cov(Return_json[start:end], Return_bmark[start:end])\n",
    "        month = cov_matrix[0,1] / cov_matrix[1,1]\n",
    "        Js.append(month)\n",
    "    #75th percentile\n",
    "    pfi75=(np.percentile(Pf,75))\n",
    "    jon75=(np.percentile(Js,75))\n",
    "    #difference in percentile\n",
    "    diff=pfi75-jon75\n",
    "    #combined list\n",
    "    PFJS=np.append(Pf,Js)\n",
    "    #permutation test\n",
    "    n1=len(Pf)\n",
    "    n = len(PFJS)\n",
    "    leng = np.arange(n)\n",
    "    perm = []\n",
    "    for i in range(10000):\n",
    "        np.random.shuffle(leng)\n",
    "        p = np.percentile(PFJS[leng][:n1],75) - np.percentile(PFJS[leng][n1:],75)\n",
    "        perm.append(p)\n",
    "    \n",
    "    #graph\n",
    "    fig, ax = plt.subplots()\n",
    "    ax.set_title('Distributions of Stocks')\n",
    "\n",
    "    plt.hist(perm,20,alpha=0.5, label='Test Statistic Distribution')\n",
    "    plt.plot([diff, diff], [0, 10000/10], 'b--', label='Original Stat') \n",
    "    plt.xlabel('Test Statistic')\n",
    "    plt.legend(bbox_to_anchor=(0, 1), loc=2, borderaxespad=0.1)\n",
    "    plt.savefig('tang631_hw8_q1.pdf')\n",
    "\n",
    "    \n",
    "    #p-value\n",
    "    count=(np.abs(perm)>=np.abs(diff)).sum()\n",
    "    p_val=np.round((count+1)/(1+10000),4)\n",
    "    return(print(\"The two sided test p-value is\", p_val))\n",
    "q1()"
   ]
  },
  {
   "cell_type": "code",
   "execution_count": null,
   "metadata": {},
   "outputs": [],
   "source": [
    "def q1():\n",
    "    #opening the csv and making lists 3 stocks\n",
    "    data= pd.read_csv(\"StockPrice_5Year_Weekly.csv\")\n",
    "    bench=data[\"S&P 500\"]\n",
    "    pfiz=data['Pfizer']\n",
    "    john=data['Johnson']\n",
    "    #calculating weekly return of stocks\n",
    "    b=[]\n",
    "        #the commas in this set mess up the code later\n",
    "    for i in range(261):\n",
    "        j=bench[i].replace(\",\",\"\")\n",
    "        b.append(float(j))\n",
    "   \n",
    "    bmark = pd.Series(b).pct_change().dropna()\n",
    "    Pfiz = pd.Series(pfiz).pct_change().dropna()\n",
    "    json = pd.Series(john).pct_change().dropna()\n",
    "    Return_bmark = np.log(bmark+1)\n",
    "    Return_Pfiz = np.log(Pfiz+1)\n",
    "    Return_json = np.log(json+1)\n",
    "   \n",
    "    #Pfiz monthly beta\n",
    "    Pf=[]\n",
    "    for i in range(65):\n",
    "        start=4*i\n",
    "        end=start+4\n",
    "        cov_matrix = np.cov(Return_Pfiz[start:end], Return_bmark[start:end])\n",
    "        month = cov_matrix[0,1] / cov_matrix[1,1]\n",
    "        Pf.append(month)\n",
    "    #Johnson montly beta\n",
    "    Js=[]\n",
    "    for i in range(65):\n",
    "        start=4*i\n",
    "        end=start+4\n",
    "        cov_matrix = np.cov(Return_json[start:end], Return_bmark[start:end])\n",
    "        month = cov_matrix[0,1] / cov_matrix[1,1]\n",
    "        Js.append(month)\n",
    "    #75th percentile\n",
    "    pfi75=(np.percentile(Pf,75))\n",
    "    jon75=(np.percentile(Js,75))\n",
    "    #difference in percentile\n",
    "    diff=pfi75-jon75\n",
    "    #combined list\n",
    "    PFJS=np.append(Pf,Js)\n",
    "    #permutation test\n",
    "    n1=len(Pf)\n",
    "    n = len(PFJS)\n",
    "    leng = np.arange(n)\n",
    "    perm = []\n",
    "    for i in range(10000):\n",
    "        np.random.shuffle(leng)\n",
    "        p = np.percentile(PFJS[leng][:n1],75) - np.percentile(PFJS[leng][n1:],75)\n",
    "        perm.append(p)\n",
    "   \n",
    "    #graph\n",
    "    fig, ax = plt.subplots()\n",
    "    ax.set_title('Distributions of Stocks')\n",
    "\n",
    "    plt.hist(perm,20,alpha=0.5, label='Test Statistic Distribution')\n",
    "    plt.plot([diff, diff], [0, 10000/10], 'b--', label='Original Stat')\n",
    "    plt.xlabel('Test Statistic')\n",
    "    plt.legend(bbox_to_anchor=(0, 1), loc=2, borderaxespad=0.1)\n",
    "    plt.savefig('tang631_hw8_q1.pdf')\n",
    "\n",
    "   \n",
    "    #p-value\n",
    "    count=(np.abs(perm)>=np.abs(diff)).sum()\n",
    "    p_val=np.round((count+1)/(1+10000),4)\n",
    "    return(print(\"The two sided test p-value is\", p_val))\n",
    "q1()"
   ]
  },
  {
   "cell_type": "markdown",
   "metadata": {},
   "source": [
    "# Question 2\n",
    "Using bootstrapping approach, create and plot the sampling distribution of the average GDP per capita data across the OECD countries in 2010 and mark the 95% confidence interval.\n",
    "\n",
    "- **Input**: none\n",
    "- **Output**: a pdf figure saved to file username_hw8_q2.pdf (saved to the output folder)\n",
    "   - Make sure that your graph contains axis labels and proper legends\n",
    "\n",
    "*Make sure that \"gdppercapita.csv\" is in the data folder. \n"
   ]
  },
  {
   "cell_type": "code",
   "execution_count": null,
   "metadata": {},
   "outputs": [],
   "source": [
    "def q2():\n",
    "\n",
    "    oecd={'country':['Australia','Austria', 'Belgium', 'Canada','Chile','Colombia','Czech Republic','Denmark', 'Estonia',\\\n",
    "                             'Finland', 'France', 'Germany', 'Greece', 'Hungary','Iceland','Ireland','Israel','Italy', 'Japan', \\\n",
    "                             'South Korea','Latvia', 'Lithuania','Luxembourg', 'Mexico', 'Netherlands','New Zealand','Norway','Poland',\\\n",
    "                             'Portugal','Slovak Republic','Slovenia','Spain','Sweden','Switzerland','Turkey', 'United Kingdom','United States'],\\\n",
    "                  'join_year':[1971,1961, 1961, 1961,2010,2020,1995,1961, 2010, 1969, 1961, 1961, 1961, 1996,\\\n",
    "                    1961,1961,2010,1962, 1964,1996,2016, 2018,1961, 1994, 1961,1973,1961,1996,1961,\\\n",
    "                    2000,2010,1961,1961,1961,1961,1961,1961]}\n",
    "\n",
    "    pass"
   ]
  },
  {
   "cell_type": "code",
   "execution_count": 11,
   "metadata": {},
   "outputs": [],
   "source": [
    "def q2():\n",
    "    oecd={'country':['Australia','Austria', 'Belgium', 'Canada','Chile','Colombia','Czech Republic','Denmark', 'Estonia',\\\n",
    "                         'Finland', 'France', 'Germany', 'Greece', 'Hungary','Iceland','Ireland','Israel','Italy', 'Japan', \\\n",
    "                         'South Korea','Latvia', 'Lithuania','Luxembourg', 'Mexico', 'Netherlands','New Zealand','Norway','Poland',\\\n",
    "                         'Portugal','Slovak Republic','Slovenia','Spain','Sweden','Switzerland','Turkey', 'United Kingdom','United States'],\\\n",
    "              'join_year':[1971,1961, 1961, 1961,2010,2020,1995,1961, 2010, 1969, 1961, 1961, 1961, 1996,\\\n",
    "                1961,1961,2010,1962, 1964,1996,2016, 2018,1961, 1994, 1961,1973,1961,1996,1961,\\\n",
    "                2000,2010,1961,1961,1961,1961,1961,1961]}\n",
    "\n",
    "    data=pd.read_csv('gdppercapita.csv',index_col=0)\n",
    "    data=data.loc[oecd['country'],:]\n",
    "\n",
    "\n",
    "    dataIndex=pd.DataFrame(oecd,columns=['country','join_year'])\n",
    "    dataIndex=dataIndex.set_index('country')\n",
    "    dataIndex[\"2010\"]=dataIndex['join_year']<=2010\n",
    "\n",
    "\n",
    "    oecd2010=data[dataIndex][\"2010\"]\n",
    "    print(oecd2010)\n",
    "    oecd2010=oecd2010.dropna() \n",
    "    np.mean(oecd2010)\n",
    "    oecd2010.shape[0]\n",
    "    resampled_means = []\n",
    "    for i in range(1000):\n",
    "        \n",
    "        random_resample_indices = np.random.randint(oecd2010.shape[0],size=oecd2010.shape[0]) \n",
    "        m = np.mean(oecd2010[random_resample_indices])\n",
    "        resampled_means.append(m)\n",
    "        \n",
    "    #0.025 percentile\n",
    "    low=np.percentile(resampled_means,2.5)\n",
    "    #0.975 percentile\n",
    "    high=np.percentile(resampled_means,97.5)\n",
    "    \n",
    "    plt.hist(resampled_means)\n",
    "    plt.plot([low, low], [0, 200], 'r--') \n",
    "    plt.plot([high, high], [0, 200], 'r--') \n",
    "    plt.xlabel(\"gdp per capita\")\n",
    "    plt.ylabel(\"frequency\")\n",
    "    plt.savefig(\"tang631_hw8_q2.pdf\")"
   ]
  },
  {
   "cell_type": "code",
   "execution_count": 12,
   "metadata": {},
   "outputs": [
    {
     "name": "stdout",
     "output_type": "stream",
     "text": [
      "country\n",
      "Australia          41500.0\n",
      "Austria            43300.0\n",
      "Belgium            41100.0\n",
      "Canada             40700.0\n",
      "Chile              19400.0\n",
      "Colombia               NaN\n",
      "Czech Republic     28400.0\n",
      "Denmark            44000.0\n",
      "Estonia            22700.0\n",
      "Finland            39800.0\n",
      "France             36800.0\n",
      "Germany            40400.0\n",
      "Greece             28700.0\n",
      "Hungary            22400.0\n",
      "Iceland            40100.0\n",
      "Ireland            43500.0\n",
      "Israel             29700.0\n",
      "Italy              36200.0\n",
      "Japan              35800.0\n",
      "South Korea        30400.0\n",
      "Latvia                 NaN\n",
      "Lithuania              NaN\n",
      "Luxembourg         91700.0\n",
      "Mexico             16200.0\n",
      "Netherlands        46100.0\n",
      "New Zealand        32200.0\n",
      "Norway             62400.0\n",
      "Poland             21800.0\n",
      "Portugal           27200.0\n",
      "Slovak Republic    25200.0\n",
      "Slovenia           28700.0\n",
      "Spain              32500.0\n",
      "Sweden             43000.0\n",
      "Switzerland        55900.0\n",
      "Turkey             18000.0\n",
      "United Kingdom     36500.0\n",
      "United States      49500.0\n",
      "Name: 2010, dtype: float64\n"
     ]
    },
    {
     "data": {
      "image/png": "[encoded data removed]",
      "text/plain": [
       "<Figure size 640x480 with 1 Axes>"
      ]
     },
     "metadata": {},
     "output_type": "display_data"
    }
   ],
   "source": [
    "q2()"
   ]
  },
  {
   "cell_type": "markdown",
   "metadata": {},
   "source": [
    "# Question 3\n",
    "Suppose that the monthly economic growth is characterized by the following matrix:\n",
    "\n",
    "\\begin{equation*}\n",
    "P =  \\begin{vmatrix}\n",
    ".95 & .04 & .01 \\\\\n",
    " .15&  .75 & .10  \\\\\n",
    " .01&  .49 & .50\n",
    "\\end{vmatrix}\n",
    "\\end{equation*}\n",
    "\n",
    "Where the first state represents \"normal growth\", the second state represents \"mild recession\" and the third state represents \"severe recession.\" For example, the matrix tells us that when the state is normal growth, the country will again experience normal growth next month with probability 0.95. Conditional on being in the state of economic growth, what is the probability of experiencing deep recession at least once over the next 12 months?\n",
    "\n",
    "- **Input**: none\n",
    "- **Output**: the probability\n",
    "\n"
   ]
  },
  {
   "cell_type": "code",
   "execution_count": 13,
   "metadata": {},
   "outputs": [
    {
     "name": "stdout",
     "output_type": "stream",
     "text": [
      "0.1965\n"
     ]
    },
    {
     "data": {
      "text/plain": [
       "0.1965"
      ]
     },
     "execution_count": 13,
     "metadata": {},
     "output_type": "execute_result"
    }
   ],
   "source": [
    "def q3():\n",
    "    def my_mc_simulation(current_state, states, P, T=10000):\n",
    "        chain = np.zeros(T,dtype=int)\n",
    "\n",
    "        for t in range(0,T):\n",
    "            chain[t] = current_state\n",
    "            next_state = np.random.choice(states, p=P[current_state])\n",
    "            current_state = next_state #moving to the next state\n",
    "\n",
    "        return chain\n",
    "    states = np.arange(3) #vector of states\n",
    "    current_state = 0 #current state is economic growth\n",
    "    T=12\n",
    "    P = np.array([[0.95,0.04,0.01],[0.15,0.75,0.1],[0.01,0.49,0.5]])\n",
    "\n",
    "    n_sim = 10000\n",
    "    results = np.zeros((n_sim,T))\n",
    "    for i in range(n_sim):\n",
    "        results[i,:] = my_mc_simulation(current_state, states, P,T)\n",
    "    count = 0\n",
    "    for i in range(n_sim):\n",
    "        if (results[i,:]==2).any():\n",
    "            count+=1\n",
    "    print(count/n_sim)\n",
    "    return(count/n_sim)\n",
    "q3()"
   ]
  }
 ],
 "metadata": {
  "kernelspec": {
   "display_name": "Python 3 (ipykernel)",
   "language": "python",
   "name": "python3"
  },
  "language_info": {
   "codemirror_mode": {
    "name": "ipython",
    "version": 3
   },
   "file_extension": ".py",
   "mimetype": "text/x-python",
   "name": "python",
   "nbconvert_exporter": "python",
   "pygments_lexer": "ipython3",
   "version": "3.11.4"
  }
 },
 "nbformat": 4,
 "nbformat_minor": 4
}
